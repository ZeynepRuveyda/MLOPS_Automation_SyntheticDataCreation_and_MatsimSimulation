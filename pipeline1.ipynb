{
 "cells": [
  {
   "cell_type": "code",
   "execution_count": null,
   "metadata": {},
   "outputs": [],
   "source": [
    "import os\n",
    "import subprocess\n",
    "import kfp\n",
    "from kfp.components import create_component_from_func\n",
    "from kfp import dsl\n",
    "import kfp.dsl as dsl\n",
    "from kfp import compiler"
   ]
  },
  {
   "cell_type": "code",
   "execution_count": null,
   "metadata": {},
   "outputs": [],
   "source": [
    "# Define the pipeline using the Kubeflow Pipelines DSL\n",
    "@dsl.pipeline(\n",
    "    name=\"Nord-Pas-de-Calais Creating Synthetic Data and Matsim Simulation\",\n",
    "    description=\"A pipeline that create the synthetic data and simulate a Matsim using KFServing\"\n",
    ")"
   ]
  },
  {
   "cell_type": "code",
   "execution_count": null,
   "metadata": {},
   "outputs": [],
   "source": [
    "def synthetic_population_pipeline(\n",
    "    # Update the data path to match the Dockerfile\n",
    "    working_directory: str = '/home/ozelz/npc1/tmp', # where the pipeline can store temporary data\n",
    "    data_path: str = '/home/ozelz/npc1/data',    #'/data'\n",
    "    output_path: str = '/home/ozelz/npc1/output', #'/output'\n",
    "    processes: int = 4,\n",
    "    hts: str = 'entd', # Define whether to use ENTD or EGT as the household travel survey (HTS)\n",
    "    # Define sampling rate and random seed for the output population\n",
    "    sampling_rate: float = 0.001,\n",
    "    random_seed: int = 1234,\n",
    "    java_memory: str = '48G',  # Only interesting if you run the simulation\n",
    "    mode_choice: bool = True,  # Activate if you want to run mode choice\n",
    "    \n",
    "    # Uncommented below to enable vehicle fleet generation\n",
    "    # generate_vehicles_file: bool = True,\n",
    "    # generate_vehicles_method: str = fleet_sample,\n",
    "    # vehicles_data_year: int = 2015,\n",
    "   \n",
    "    regions: list = [],\n",
    "    departments: list = [\"59\", \"62\"],\n",
    "    gtfs_path: str = 'gtfs_npc',\n",
    "    osm_path: str = 'osm_npc',\n",
    "    ban_path: str = 'ban_npc',\n",
    "    bdtopo_path: str = 'bdtopo_npc',\n",
    "    osmosis_binary: str = '/app/osmosis/bin/osmosis'\n",
    "):\n",
    "\n",
    "    # Define a volume to mount\n",
    "    volume = dsl.VolumeOp(\n",
    "        name=\"my-app-volume\",\n",
    "        modes=dsl.VOLUME_MODE_RWO #ReadWriteOnce\n",
    "        size='20Gi' \n",
    "    )\n",
    "\n",
    "    # Define pipeline steps here\n",
    "    with dsl.Pipeline() as pipeline:\n",
    "        # Step 1: Run the main processing task\n",
    "        synpp_command = f'python3 -m synpp --working-directory {working_directory} --data-path {data_path} --output-path {output_path}'\n",
    "        synpp_task = dsl.ContainerOp(\n",
    "            name='run-synpp',\n",
    "            image='zeynep02/my-app-v4:latest',  # Use your custom image here\n",
    "            command=['sh', '-c', synpp_command],\n",
    "            volumes={'/app':volume.volume}\n",
    "        )"
   ]
  },
  {
   "cell_type": "code",
   "execution_count": null,
   "metadata": {},
   "outputs": [],
   "source": [
    "# Define the parts of the pipeline to run\n",
    "partstorun = [\n",
    "    'synthesis.output',  # To create the output population in the output_path\n",
    "    'matsim.output'  # You'll need Java for that and Uncomment the line below if you want to run the full simulation\n",
    "]"
   ]
  },
  {
   "cell_type": "code",
   "execution_count": null,
   "metadata": {},
   "outputs": [],
   "source": [
    "# This section defines which parts of the pipeline should be run\n",
    "run = partstorun"
   ]
  },
  {
   "cell_type": "code",
   "execution_count": null,
   "metadata": {},
   "outputs": [],
   "source": [
    "# Compile and run the pipeline\n",
    "if __name__ == '__main__':\n",
    "    kfp.compiler.Compiler().compile(synthetic_population_pipeline, 'my-app.yaml')\n"
   ]
  }
 ],
 "metadata": {
  "language_info": {
   "name": "python"
  }
 },
 "nbformat": 4,
 "nbformat_minor": 2
}
